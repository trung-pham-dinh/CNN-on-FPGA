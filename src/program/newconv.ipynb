{
 "cells": [
  {
   "cell_type": "code",
   "execution_count": 1,
   "metadata": {},
   "outputs": [],
   "source": [
    "import numpy as np\n",
    "import time"
   ]
  },
  {
   "cell_type": "code",
   "execution_count": 2,
   "metadata": {},
   "outputs": [],
   "source": [
    "filename_i = \"bram_input_init_\"\n",
    "def append_hex(a, b,size):\n",
    "    sizeof_b = 8*size\n",
    "    return (a << sizeof_b) | b\n",
    "\n",
    "def bram_input_init(input, width, height, channel):\n",
    "    quarterNumberOfEntries = int(width*height*channel/4)\n",
    "    for i in range(4):\n",
    "        filename_temp = filename_i + str(i) + \".coe\"\n",
    "        f = open(filename_temp, \"w\")\n",
    "        f.write(\"memory_initialization_radix=16;\\nmemory_initialization_vector=\")\n",
    "        count = 0\n",
    "        temp = 0x0\n",
    "        for j in range(quarterNumberOfEntries):\n",
    "            temp = append_hex(input[i*quarterNumberOfEntries+j],temp,count)\n",
    "            count = count + 1\n",
    "            if(count == 4):\n",
    "                f.write(str(hex(temp)[2:])+ \" \")\n",
    "                temp = 0x0\n",
    "                count = 0\n",
    "    if (quarterNumberOfEntries % 4 != 0):\n",
    "        f.write(str(hex(temp)[2:])+\" \")\n",
    "    f.write(\";\")\n",
    "    f.close()\n",
    "\n"
   ]
  },
  {
   "cell_type": "code",
   "execution_count": 26,
   "metadata": {},
   "outputs": [],
   "source": [
    "filename_w = \"bram_weight_init_\"\n",
    "\n",
    "def append_hex(a, b,size):\n",
    "    sizeof_b = 8*size\n",
    "    return (a << sizeof_b) | b\n",
    "    \n",
    "def bram_weight_init(weight, kernel, width, height, channel):\n",
    "\tnumberOfEntries = width * height\n",
    "\n",
    "\tquarterOfChannel = channel/4\n",
    "\tquarterOfKernel = kernel/4\n",
    "\tentriesInOneFilter = width * height\n",
    "\tentriesInOneKernel = width * height * channel\n",
    "\n",
    "\tstarting_point = 0\n",
    "\tfile_count = 0\n",
    "\tfile_index = [0,4,8,12,1,5,9,13,2,6,10,14,3,7,11,15]\n",
    "\tfor i in file_index:\n",
    "         filename_temp = filename_w + str(i) + \".coe\"\n",
    "         f = open(filename_temp, \"w\")\n",
    "         f.write(\"memory_initialization_radix=16;\\nmemory_initialization_vector=\")\n",
    "         count = 0\n",
    "         temp = 0x0\n",
    "         for j in range (int(quarterOfKernel)):\n",
    "             for m in range(int(quarterOfChannel)):\n",
    "                 for n in range(entriesInOneFilter):\n",
    "                     temp = append_hex(weight[int(starting_point + n + m*entriesInOneFilter + j*entriesInOneKernel)]%256,temp,count)\n",
    "                     count = count + 1\n",
    "                     if(count == 4):\n",
    "                         f.write(str(hex(temp)[2:])+ \" \")\n",
    "                         temp = 0x0\n",
    "                         count = 0\n",
    "         if (int(numberOfEntries*quarterOfKernel*quarterOfChannel) % 4 != 0):\n",
    "             f.write(str(hex(temp)[2:])+\" \")\n",
    "         f.write(\";\")\n",
    "         f.close()\n",
    "         file_count = file_count + 1\n",
    "         if (file_count%4 == 0):\n",
    "             starting_point = starting_point + entriesInOneFilter*quarterOfChannel + entriesInOneKernel*(quarterOfKernel-1)\n",
    "         else:\n",
    "             starting_point = starting_point + entriesInOneFilter*quarterOfChannel\n"
   ]
  },
  {
   "cell_type": "code",
   "execution_count": 4,
   "metadata": {},
   "outputs": [],
   "source": [
    "def reshape_data(data, dtypes, m, n_C, n_W, n_H):\n",
    "    n_data = np.array(data, dtype = dtypes)\n",
    "    n_data = np.reshape(n_data, (m,n_C,n_W,n_H))\n",
    "    return n_data"
   ]
  },
  {
   "cell_type": "code",
   "execution_count": 5,
   "metadata": {},
   "outputs": [],
   "source": [
    "def conv(m, n_C, n_W_prev, n_H_prev, f,  stride, n_feature, n_weight): #parameters: weight, kernel, width, height, channel\n",
    "    pad = 0\n",
    "    t = []\n",
    "    n_H = int((n_H_prev + 2*pad - f)/stride) + 1\n",
    "    n_W = int((n_W_prev + 2*pad - f)/stride) + 1\n",
    "    time3 = time.time()\n",
    "    for i in range(m):\n",
    "        for c in range(n_C):\n",
    "\n",
    "            for h in range (n_H):\n",
    "                vert_start = stride * h \n",
    "                vert_end = vert_start  + f\n",
    "      \n",
    "                for w in range (n_W):\n",
    "                    horiz_start = stride * w\n",
    "                    horiz_end = horiz_start + f\n",
    "\n",
    "                    temp_feature = np.array(n_feature[0, 0,vert_start:vert_end, horiz_start:horiz_end ], dtype = np.uint8)\n",
    "                    #print(\"F: \", temp_feature)\n",
    "                    w = np.array(n_weight[0, c, :, :], dtype = np.uint8)\n",
    "                    #print(\"W: \", n_weight[0, c, :, :])\n",
    "                    temp_ans = np.multiply(temp_feature, w, dtype = np.uint8)\n",
    "                    t.append(np.sum(temp_ans, dtype = np.uint8))\n",
    "                    #print(t)\n",
    "    time4 = time.time()\n",
    "    print(\"Calculation time: \", time4 - time3)\n",
    "    return t;"
   ]
  },
  {
   "cell_type": "code",
   "execution_count": 16,
   "metadata": {},
   "outputs": [],
   "source": [
    "#input specs\n",
    "stride = 1\n",
    "pad = 0\n",
    "m = 1 #number of pictures\n",
    "n_C_prev = 8 #number of channels of picture\n",
    "n_C = 8 #number of kernel\n",
    "n_H_prev, n_W_prev = 5, 5 #size of picture\n",
    "f = 3 #size of kernel"
   ]
  },
  {
   "cell_type": "markdown",
   "metadata": {},
   "source": [
    "weight: 8 kernel, 8 channel, 4x4"
   ]
  },
  {
   "cell_type": "code",
   "execution_count": 27,
   "metadata": {},
   "outputs": [
    {
     "name": "stdout",
     "output_type": "stream",
     "text": [
      "Calculation time:  0.0010001659393310547\n"
     ]
    }
   ],
   "source": [
    "feature = list(range(26,226))\n",
    "weight = list(range(1,577))\n",
    "bram_input_init(feature,n_H_prev,n_W_prev,n_C_prev) # parameters: input array, width, height, channel\n",
    "bram_weight_init(weight,n_C,3,3,n_C_prev) #parameters: weight, kernel%4, width, height, channel%4\n",
    "n_f = reshape_data(feature, np.uint8,m ,n_C_prev, n_H_prev, n_W_prev)\n",
    "n_w = reshape_data(weight, np.uint8, n_C, n_C_prev, f, f)\n",
    "a = conv(m, n_C, n_H_prev, n_W_prev, f, 1, n_f, n_w)"
   ]
  },
  {
   "cell_type": "code",
   "execution_count": 28,
   "metadata": {},
   "outputs": [
    {
     "data": {
      "text/plain": [
       "[0,\n",
       " 45,\n",
       " 90,\n",
       " 225,\n",
       " 14,\n",
       " 59,\n",
       " 194,\n",
       " 239,\n",
       " 28,\n",
       " 32,\n",
       " 158,\n",
       " 28,\n",
       " 150,\n",
       " 20,\n",
       " 146,\n",
       " 12,\n",
       " 138,\n",
       " 8,\n",
       " 64,\n",
       " 15,\n",
       " 222,\n",
       " 75,\n",
       " 26,\n",
       " 233,\n",
       " 86,\n",
       " 37,\n",
       " 244,\n",
       " 96,\n",
       " 128,\n",
       " 160,\n",
       " 0,\n",
       " 32,\n",
       " 64,\n",
       " 160,\n",
       " 192,\n",
       " 224,\n",
       " 128,\n",
       " 241,\n",
       " 98,\n",
       " 181,\n",
       " 38,\n",
       " 151,\n",
       " 234,\n",
       " 91,\n",
       " 204,\n",
       " 160,\n",
       " 98,\n",
       " 36,\n",
       " 106,\n",
       " 44,\n",
       " 238,\n",
       " 52,\n",
       " 246,\n",
       " 184,\n",
       " 192,\n",
       " 211,\n",
       " 230,\n",
       " 31,\n",
       " 50,\n",
       " 69,\n",
       " 126,\n",
       " 145,\n",
       " 164,\n",
       " 224,\n",
       " 68,\n",
       " 168,\n",
       " 212,\n",
       " 56,\n",
       " 156,\n",
       " 200,\n",
       " 44,\n",
       " 144]"
      ]
     },
     "execution_count": 28,
     "metadata": {},
     "output_type": "execute_result"
    }
   ],
   "source": [
    "a"
   ]
  }
 ],
 "metadata": {
  "interpreter": {
   "hash": "b72d519cc2b8ca24e0d912f2fe0a009ed48fdda1cb5bed301233c8050406e51e"
  },
  "kernelspec": {
   "display_name": "Python 3.8.5 64-bit ('base': conda)",
   "language": "python",
   "name": "python3"
  },
  "language_info": {
   "codemirror_mode": {
    "name": "ipython",
    "version": 3
   },
   "file_extension": ".py",
   "mimetype": "text/x-python",
   "name": "python",
   "nbconvert_exporter": "python",
   "pygments_lexer": "ipython3",
   "version": "3.8.5"
  },
  "orig_nbformat": 4
 },
 "nbformat": 4,
 "nbformat_minor": 2
}
